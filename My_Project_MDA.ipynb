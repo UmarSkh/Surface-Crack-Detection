{
  "cells": [
    {
      "cell_type": "markdown",
      "metadata": {
        "id": "ba8cbf8d"
      },
      "source": [
        "# **Image Processing for detecting Cracks in Mine Pillars**\n"
      ]
    },
    {
      "cell_type": "markdown",
      "metadata": {
        "id": "3b9500e2"
      },
      "source": [
        "### Import Used Libraries"
      ]
    },
    {
      "cell_type": "code",
      "execution_count": null,
      "metadata": {
        "id": "TyTkNv2kKVtR"
      },
      "outputs": [],
      "source": []
    },
    {
      "cell_type": "code",
      "execution_count": 1,
      "metadata": {
        "id": "G9XISxTaHNSS"
      },
      "outputs": [],
      "source": [
        "! pip install -q kaggle"
      ]
    },
    {
      "cell_type": "code",
      "execution_count": 2,
      "metadata": {
        "colab": {
          "base_uri": "https://localhost:8080/"
        },
        "id": "-t_G2iv_cb_D",
        "outputId": "efba24c3-c02b-4813-ba12-350f29ce72de"
      },
      "outputs": [
        {
          "output_type": "stream",
          "name": "stdout",
          "text": [
            "Drive already mounted at /content/drive; to attempt to forcibly remount, call drive.mount(\"/content/drive\", force_remount=True).\n"
          ]
        }
      ],
      "source": [
        "# This connects your Google Drive to Colab so you can access your files stored there.\n",
        "# Once you run this, you will be asked to grant Colab access to your Google Drive.\n",
        "\n",
        "from google.colab import drive\n",
        "drive.mount('/content/drive')"
      ]
    },
    {
      "cell_type": "code",
      "execution_count": 3,
      "metadata": {
        "colab": {
          "base_uri": "https://localhost:8080/",
          "height": 73
        },
        "id": "KYQvcTUBFE4Q",
        "outputId": "b243a730-a877-460a-abb2-bc946f619d3b"
      },
      "outputs": [
        {
          "output_type": "display_data",
          "data": {
            "text/plain": [
              "<IPython.core.display.HTML object>"
            ],
            "text/html": [
              "\n",
              "     <input type=\"file\" id=\"files-13c09e88-66a4-4741-b846-12924814c32e\" name=\"files[]\" multiple disabled\n",
              "        style=\"border:none\" />\n",
              "     <output id=\"result-13c09e88-66a4-4741-b846-12924814c32e\">\n",
              "      Upload widget is only available when the cell has been executed in the\n",
              "      current browser session. Please rerun this cell to enable.\n",
              "      </output>\n",
              "      <script>// Copyright 2017 Google LLC\n",
              "//\n",
              "// Licensed under the Apache License, Version 2.0 (the \"License\");\n",
              "// you may not use this file except in compliance with the License.\n",
              "// You may obtain a copy of the License at\n",
              "//\n",
              "//      http://www.apache.org/licenses/LICENSE-2.0\n",
              "//\n",
              "// Unless required by applicable law or agreed to in writing, software\n",
              "// distributed under the License is distributed on an \"AS IS\" BASIS,\n",
              "// WITHOUT WARRANTIES OR CONDITIONS OF ANY KIND, either express or implied.\n",
              "// See the License for the specific language governing permissions and\n",
              "// limitations under the License.\n",
              "\n",
              "/**\n",
              " * @fileoverview Helpers for google.colab Python module.\n",
              " */\n",
              "(function(scope) {\n",
              "function span(text, styleAttributes = {}) {\n",
              "  const element = document.createElement('span');\n",
              "  element.textContent = text;\n",
              "  for (const key of Object.keys(styleAttributes)) {\n",
              "    element.style[key] = styleAttributes[key];\n",
              "  }\n",
              "  return element;\n",
              "}\n",
              "\n",
              "// Max number of bytes which will be uploaded at a time.\n",
              "const MAX_PAYLOAD_SIZE = 100 * 1024;\n",
              "\n",
              "function _uploadFiles(inputId, outputId) {\n",
              "  const steps = uploadFilesStep(inputId, outputId);\n",
              "  const outputElement = document.getElementById(outputId);\n",
              "  // Cache steps on the outputElement to make it available for the next call\n",
              "  // to uploadFilesContinue from Python.\n",
              "  outputElement.steps = steps;\n",
              "\n",
              "  return _uploadFilesContinue(outputId);\n",
              "}\n",
              "\n",
              "// This is roughly an async generator (not supported in the browser yet),\n",
              "// where there are multiple asynchronous steps and the Python side is going\n",
              "// to poll for completion of each step.\n",
              "// This uses a Promise to block the python side on completion of each step,\n",
              "// then passes the result of the previous step as the input to the next step.\n",
              "function _uploadFilesContinue(outputId) {\n",
              "  const outputElement = document.getElementById(outputId);\n",
              "  const steps = outputElement.steps;\n",
              "\n",
              "  const next = steps.next(outputElement.lastPromiseValue);\n",
              "  return Promise.resolve(next.value.promise).then((value) => {\n",
              "    // Cache the last promise value to make it available to the next\n",
              "    // step of the generator.\n",
              "    outputElement.lastPromiseValue = value;\n",
              "    return next.value.response;\n",
              "  });\n",
              "}\n",
              "\n",
              "/**\n",
              " * Generator function which is called between each async step of the upload\n",
              " * process.\n",
              " * @param {string} inputId Element ID of the input file picker element.\n",
              " * @param {string} outputId Element ID of the output display.\n",
              " * @return {!Iterable<!Object>} Iterable of next steps.\n",
              " */\n",
              "function* uploadFilesStep(inputId, outputId) {\n",
              "  const inputElement = document.getElementById(inputId);\n",
              "  inputElement.disabled = false;\n",
              "\n",
              "  const outputElement = document.getElementById(outputId);\n",
              "  outputElement.innerHTML = '';\n",
              "\n",
              "  const pickedPromise = new Promise((resolve) => {\n",
              "    inputElement.addEventListener('change', (e) => {\n",
              "      resolve(e.target.files);\n",
              "    });\n",
              "  });\n",
              "\n",
              "  const cancel = document.createElement('button');\n",
              "  inputElement.parentElement.appendChild(cancel);\n",
              "  cancel.textContent = 'Cancel upload';\n",
              "  const cancelPromise = new Promise((resolve) => {\n",
              "    cancel.onclick = () => {\n",
              "      resolve(null);\n",
              "    };\n",
              "  });\n",
              "\n",
              "  // Wait for the user to pick the files.\n",
              "  const files = yield {\n",
              "    promise: Promise.race([pickedPromise, cancelPromise]),\n",
              "    response: {\n",
              "      action: 'starting',\n",
              "    }\n",
              "  };\n",
              "\n",
              "  cancel.remove();\n",
              "\n",
              "  // Disable the input element since further picks are not allowed.\n",
              "  inputElement.disabled = true;\n",
              "\n",
              "  if (!files) {\n",
              "    return {\n",
              "      response: {\n",
              "        action: 'complete',\n",
              "      }\n",
              "    };\n",
              "  }\n",
              "\n",
              "  for (const file of files) {\n",
              "    const li = document.createElement('li');\n",
              "    li.append(span(file.name, {fontWeight: 'bold'}));\n",
              "    li.append(span(\n",
              "        `(${file.type || 'n/a'}) - ${file.size} bytes, ` +\n",
              "        `last modified: ${\n",
              "            file.lastModifiedDate ? file.lastModifiedDate.toLocaleDateString() :\n",
              "                                    'n/a'} - `));\n",
              "    const percent = span('0% done');\n",
              "    li.appendChild(percent);\n",
              "\n",
              "    outputElement.appendChild(li);\n",
              "\n",
              "    const fileDataPromise = new Promise((resolve) => {\n",
              "      const reader = new FileReader();\n",
              "      reader.onload = (e) => {\n",
              "        resolve(e.target.result);\n",
              "      };\n",
              "      reader.readAsArrayBuffer(file);\n",
              "    });\n",
              "    // Wait for the data to be ready.\n",
              "    let fileData = yield {\n",
              "      promise: fileDataPromise,\n",
              "      response: {\n",
              "        action: 'continue',\n",
              "      }\n",
              "    };\n",
              "\n",
              "    // Use a chunked sending to avoid message size limits. See b/62115660.\n",
              "    let position = 0;\n",
              "    do {\n",
              "      const length = Math.min(fileData.byteLength - position, MAX_PAYLOAD_SIZE);\n",
              "      const chunk = new Uint8Array(fileData, position, length);\n",
              "      position += length;\n",
              "\n",
              "      const base64 = btoa(String.fromCharCode.apply(null, chunk));\n",
              "      yield {\n",
              "        response: {\n",
              "          action: 'append',\n",
              "          file: file.name,\n",
              "          data: base64,\n",
              "        },\n",
              "      };\n",
              "\n",
              "      let percentDone = fileData.byteLength === 0 ?\n",
              "          100 :\n",
              "          Math.round((position / fileData.byteLength) * 100);\n",
              "      percent.textContent = `${percentDone}% done`;\n",
              "\n",
              "    } while (position < fileData.byteLength);\n",
              "  }\n",
              "\n",
              "  // All done.\n",
              "  yield {\n",
              "    response: {\n",
              "      action: 'complete',\n",
              "    }\n",
              "  };\n",
              "}\n",
              "\n",
              "scope.google = scope.google || {};\n",
              "scope.google.colab = scope.google.colab || {};\n",
              "scope.google.colab._files = {\n",
              "  _uploadFiles,\n",
              "  _uploadFilesContinue,\n",
              "};\n",
              "})(self);\n",
              "</script> "
            ]
          },
          "metadata": {}
        },
        {
          "output_type": "stream",
          "name": "stdout",
          "text": [
            "Saving kaggle.json to kaggle (3).json\n"
          ]
        }
      ],
      "source": [
        "# Kaggle requires an API key (kaggle.json) to let you download datasets or use competitions.\n",
        "# To get kaggle.json:\n",
        "#  1. Go to https://www.kaggle.com/ -> click on your profile picture (top right) -> 'Account'.\n",
        "#  2. Scroll down to the \"API\" section and click \"Create New API Token\".\n",
        "#  3. A file called kaggle.json will be downloaded to your system.\n",
        "#\n",
        "# Now upload kaggle.json from your local machine to Colab (NOT optional).\n",
        "# When you run the cell below, a file picker will appear, choose kaggle.json.\n",
        "\n",
        "from google.colab import files\n",
        "uploaded = files.upload()"
      ]
    },
    {
      "cell_type": "code",
      "execution_count": 4,
      "metadata": {
        "colab": {
          "base_uri": "https://localhost:8080/"
        },
        "id": "IvJIK0z9FRmO",
        "outputId": "9ecf83a0-34e0-4f97-9d34-46e01d601c9e"
      },
      "outputs": [
        {
          "output_type": "stream",
          "name": "stdout",
          "text": [
            "mkdir: cannot create directory ‘/root/.kaggle’: File exists\n"
          ]
        }
      ],
      "source": [
        "# making a new directory with name kaggle\n",
        "! mkdir ~/.kaggle\n",
        "# /moving kaggle.json to root\\kaggle\n",
        "! cp kaggle.json ~/.kaggle/\n",
        "\n"
      ]
    },
    {
      "cell_type": "code",
      "execution_count": 5,
      "metadata": {
        "colab": {
          "base_uri": "https://localhost:8080/"
        },
        "id": "nBsyQ2nDGuqh",
        "outputId": "5c1644db-7a00-432d-ff62-cef0fdbd789e"
      },
      "outputs": [
        {
          "output_type": "stream",
          "name": "stdout",
          "text": [
            "Warning: Your Kaggle API key is readable by other users on this system! To fix this, you can run 'chmod 600 /root/.kaggle/kaggle.json'\n",
            "404 Client Error: Not Found for url: https://www.kaggle.com/api/v1/competitions/data/download-all/arunrk7/surface-crack-detection\n",
            "Warning: Your Kaggle API key is readable by other users on this system! To fix this, you can run 'chmod 600 /root/.kaggle/kaggle.json'\n",
            "Dataset URL: https://www.kaggle.com/datasets/arunrk7/surface-crack-detection\n",
            "License(s): copyright-authors\n",
            "surface-crack-detection.zip: Skipping, found more recently modified local copy (use --force to force download)\n"
          ]
        }
      ],
      "source": [
        "! kaggle competitions download -c 'arunrk7/surface-crack-detection'\n",
        "! kaggle datasets download -d 'arunrk7/surface-crack-detection'\n"
      ]
    },
    {
      "cell_type": "markdown",
      "metadata": {
        "id": "8ZhsdjZBTxcy"
      },
      "source": []
    },
    {
      "cell_type": "code",
      "execution_count": null,
      "metadata": {
        "colab": {
          "base_uri": "https://localhost:8080/"
        },
        "id": "qCr_RW1_JJpg",
        "outputId": "0ff3ce05-6b18-4621-8d06-1b86aea218f4"
      },
      "outputs": [
        {
          "output_type": "stream",
          "name": "stdout",
          "text": [
            "replace /content/surface-crack-detection/Negative/00001.jpg? [y]es, [n]o, [A]ll, [N]one, [r]ename: "
          ]
        }
      ],
      "source": [
        "! unzip -q /content/surface-crack-detection.zip -d /content/surface-crack-detection\n"
      ]
    },
    {
      "cell_type": "code",
      "execution_count": null,
      "metadata": {
        "colab": {
          "background_save": true
        },
        "id": "1tH2AXisI5Fi"
      },
      "outputs": [],
      "source": []
    },
    {
      "cell_type": "code",
      "execution_count": null,
      "metadata": {
        "colab": {
          "background_save": true
        },
        "id": "7eb3c86c"
      },
      "outputs": [],
      "source": [
        "import numpy as np\n",
        "import pandas as pd\n",
        "import matplotlib.pyplot as plt\n",
        "import seaborn as sns\n",
        "import plotly.express as px\n",
        "\n",
        "\n",
        "import os\n",
        "from pathlib import Path\n",
        "\n",
        "from sklearn.model_selection import train_test_split\n",
        "from sklearn.metrics import confusion_matrix, classification_report, r2_score\n",
        "\n",
        "import tensorflow as tf"
      ]
    },
    {
      "cell_type": "markdown",
      "metadata": {
        "id": "a5825ecf"
      },
      "source": [
        "### Get Positive & Negative Directories"
      ]
    },
    {
      "cell_type": "code",
      "execution_count": null,
      "metadata": {
        "colab": {
          "background_save": true
        },
        "id": "8a541312"
      },
      "outputs": [],
      "source": [
        "positive_dir = Path(r'/content/surface-crack-detection/Positive')\n",
        "negative_dir = Path(r'/content/surface-crack-detection/Negative')"
      ]
    },
    {
      "cell_type": "code",
      "execution_count": null,
      "metadata": {
        "colab": {
          "background_save": true
        },
        "id": "s5MqiHeOJat-"
      },
      "outputs": [],
      "source": [
        "for a,b,c in os.walk(r\"/content/surface-crack-detection\"):\n",
        "  print(f\"there are {len(b)} folders and {len(c)} files in {a}\")"
      ]
    },
    {
      "cell_type": "markdown",
      "metadata": {
        "id": "e60c9312"
      },
      "source": [
        "### Creating DataFrames"
      ]
    },
    {
      "cell_type": "code",
      "execution_count": null,
      "metadata": {
        "colab": {
          "background_save": true
        },
        "id": "4abc92f8"
      },
      "outputs": [],
      "source": [
        "def generate_df(img_dir, label):\n",
        "\n",
        "    file_paths = pd.Series(list(img_dir.glob(r'*.jpg')), name='Filepath').astype(str)\n",
        "    labels = pd.Series(label, name='Label', index=file_paths.index)\n",
        "    df = pd.concat([file_paths, labels], axis=1)\n",
        "    return df"
      ]
    },
    {
      "cell_type": "code",
      "execution_count": null,
      "metadata": {
        "colab": {
          "background_save": true
        },
        "id": "88e4afd3"
      },
      "outputs": [],
      "source": [
        "positive_df = generate_df(positive_dir, 'POSITIVE')\n",
        "negative_df = generate_df(negative_dir, 'NEGATIVE')\n",
        "\n",
        "all_df = pd.concat([positive_df, negative_df], axis=0).sample(frac=1, random_state=1).reset_index(drop=True)\n",
        "print(all_df)"
      ]
    },
    {
      "cell_type": "markdown",
      "metadata": {
        "id": "d8ad2cc5"
      },
      "source": [
        "### Split the DataSet"
      ]
    },
    {
      "cell_type": "code",
      "execution_count": null,
      "metadata": {
        "colab": {
          "background_save": true
        },
        "id": "399e9f5f"
      },
      "outputs": [],
      "source": [
        "train_df, test_df = train_test_split(all_df.sample(6000, random_state=1),\n",
        "                train_size=0.7,\n",
        "                shuffle=True,\n",
        "                random_state=1)"
      ]
    },
    {
      "cell_type": "code",
      "execution_count": null,
      "metadata": {
        "colab": {
          "background_save": true
        },
        "id": "f9f66ff7"
      },
      "outputs": [],
      "source": []
    },
    {
      "cell_type": "markdown",
      "metadata": {
        "id": "17340125"
      },
      "source": [
        "### Loading Image Data"
      ]
    },
    {
      "cell_type": "code",
      "execution_count": null,
      "metadata": {
        "colab": {
          "background_save": true
        },
        "id": "6165ad25"
      },
      "outputs": [],
      "source": [
        "train_gen = tf.keras.preprocessing.image.ImageDataGenerator(rescale=1./255,\n",
        "                                                           validation_split=0.2)\n",
        "\n",
        "test_gen = tf.keras.preprocessing.image.ImageDataGenerator(rescale=1./255)"
      ]
    },
    {
      "cell_type": "code",
      "execution_count": null,
      "metadata": {
        "colab": {
          "background_save": true
        },
        "id": "a55be1f8"
      },
      "outputs": [],
      "source": [
        "train_data = train_gen.flow_from_dataframe(train_df,\n",
        "                                          x_col='Filepath',\n",
        "                                          y_col='Label',\n",
        "                                          target_size=(120,120),\n",
        "                                          color_mode='rgb',\n",
        "                                          class_mode='binary',\n",
        "                                          batch_size=32,\n",
        "                                          shuffle=True,\n",
        "                                          seed=42,\n",
        "                                          subset='training')\n",
        "\n",
        "\n",
        "val_data = train_gen.flow_from_dataframe(train_df,\n",
        "                                          x_col='Filepath',\n",
        "                                          y_col='Label',\n",
        "                                          target_size=(120,120),\n",
        "                                          color_mode='rgb',\n",
        "                                          class_mode='binary',\n",
        "                                          batch_size=32,\n",
        "                                          shuffle=True,\n",
        "                                          seed=42,\n",
        "                                          subset='validation')\n",
        "\n",
        "\n",
        "test_data = test_gen.flow_from_dataframe(test_df,\n",
        "                                          x_col='Filepath',\n",
        "                                          y_col='Label',\n",
        "                                          target_size=(120,120),\n",
        "                                          color_mode='rgb',\n",
        "                                          class_mode='binary',\n",
        "                                          batch_size=32,\n",
        "                                          shuffle=False,\n",
        "                                          seed=42)"
      ]
    },
    {
      "cell_type": "code",
      "execution_count": null,
      "metadata": {
        "colab": {
          "background_save": true
        },
        "id": "0087b609"
      },
      "outputs": [],
      "source": [
        "test_data"
      ]
    },
    {
      "cell_type": "code",
      "execution_count": null,
      "metadata": {
        "colab": {
          "background_save": true
        },
        "id": "6a17c41b"
      },
      "outputs": [],
      "source": []
    },
    {
      "cell_type": "markdown",
      "metadata": {
        "id": "369c5e44"
      },
      "source": [
        "### Model building"
      ]
    },
    {
      "cell_type": "code",
      "execution_count": null,
      "metadata": {
        "colab": {
          "background_save": true
        },
        "id": "2ee01df2"
      },
      "outputs": [],
      "source": [
        "inputs = tf.keras.Input(shape=(120,120,3))\n",
        "x = tf.keras.layers.Conv2D(filters=16, kernel_size=(3,3), activation='relu')(inputs)\n",
        "x = tf.keras.layers.MaxPool2D(pool_size=(2,2))(x)\n",
        "x = tf.keras.layers.Conv2D(filters=32, kernel_size=(3,3), activation='relu')(x)\n",
        "x = tf.keras.layers.MaxPool2D(pool_size=(2,2))(x)\n",
        "\n",
        "x = tf.keras.layers.GlobalAveragePooling2D()(x)\n",
        "outputs = tf.keras.layers.Dense(1, activation='sigmoid')(x)"
      ]
    },
    {
      "cell_type": "code",
      "execution_count": null,
      "metadata": {
        "colab": {
          "background_save": true
        },
        "id": "a92a1daa"
      },
      "outputs": [],
      "source": [
        "model = tf.keras.Model(inputs=inputs, outputs=outputs)"
      ]
    },
    {
      "cell_type": "code",
      "execution_count": null,
      "metadata": {
        "colab": {
          "background_save": true
        },
        "id": "5c6b99c4"
      },
      "outputs": [],
      "source": [
        "model.compile(optimizer='adam',\n",
        "             loss='binary_crossentropy',\n",
        "             metrics=['accuracy'])"
      ]
    },
    {
      "cell_type": "code",
      "execution_count": null,
      "metadata": {
        "colab": {
          "background_save": true
        },
        "id": "539d5943",
        "scrolled": false
      },
      "outputs": [],
      "source": [
        "# print model summary\n",
        "model.summary()"
      ]
    },
    {
      "cell_type": "code",
      "execution_count": null,
      "metadata": {
        "colab": {
          "background_save": true
        },
        "id": "4f965475"
      },
      "outputs": [],
      "source": [
        "history = model.fit(train_data, validation_data=val_data, epochs=100,\n",
        "                   callbacks=[tf.keras.callbacks.EarlyStopping(monitor='val_loss',\n",
        "                                                              patience=30,\n",
        "                                                              restore_best_weights=True)\n",
        "                             ])"
      ]
    },
    {
      "cell_type": "markdown",
      "metadata": {
        "id": "29ad7c7e"
      },
      "source": [
        "### Plotting"
      ]
    },
    {
      "cell_type": "code",
      "execution_count": null,
      "metadata": {
        "colab": {
          "background_save": true
        },
        "id": "4b346c73"
      },
      "outputs": [],
      "source": [
        "fig = px.line(history.history,\n",
        "             y=['loss', 'val_loss'],\n",
        "             labels={'index':'Epoch'},\n",
        "             title='Training and Validation Loss over Time')\n",
        "\n",
        "fig.show()"
      ]
    },
    {
      "cell_type": "markdown",
      "metadata": {
        "id": "4e9f39a2"
      },
      "source": [
        "### Final Results"
      ]
    },
    {
      "cell_type": "code",
      "execution_count": null,
      "metadata": {
        "colab": {
          "background_save": true
        },
        "id": "aae0d59b"
      },
      "outputs": [],
      "source": [
        "results = model.evaluate(test_data, verbose=0)\n",
        "loss = results[0]\n",
        "accuracy = results[1]\n",
        "\n",
        "print(f'Test Loss {loss:.5f}')\n",
        "print(f'Test Accuracy {accuracy * 100:.2f} %')\n",
        "\n",
        "\n",
        "# predicted y values\n",
        "y_pred = np.squeeze((model.predict(test_data) >= 0.5).astype(int))\n",
        "y_certain = np.squeeze((model.predict(test_data)).astype(int))\n",
        "\n",
        "conf_matr = confusion_matrix(test_data.labels, y_pred)\n",
        "\n",
        "class_report = classification_report(test_data.labels, y_pred,\n",
        "                                         target_names=['NEGATIVE', 'POSITIVE'])\n",
        "\n",
        "plt.figure(figsize=(6,6))\n",
        "\n",
        "sns.heatmap(conf_matr, fmt='g', annot=True, cbar=False, vmin=0, cmap='Blues')\n",
        "\n",
        "plt.xticks(ticks=np.arange(2) + 0.5, labels=['NEGATIVE', 'POSITIVE'])\n",
        "plt.yticks(ticks=np.arange(2) + 0.5, labels=['NEGATIVE', 'POSITIVE'])\n",
        "plt.xlabel('Predicted')\n",
        "plt.ylabel('Actual')\n",
        "plt.title('Confusion Matrix')\n",
        "plt.show()\n",
        "\n",
        "print('r2 Score : ', r2_score(test_data.labels, y_pred))\n",
        "print()\n",
        "print('Classification Report :\\n......................\\n', class_report)"
      ]
    },
    {
      "cell_type": "markdown",
      "metadata": {
        "id": "5bc6c656"
      },
      "source": [
        "### Testing New DataSet"
      ]
    },
    {
      "cell_type": "code",
      "execution_count": null,
      "metadata": {
        "colab": {
          "background_save": true
        },
        "id": "d357f13f"
      },
      "outputs": [],
      "source": [
        "def test_new_data(dir_path):\n",
        "\n",
        "    new_test_dir = Path(dir_path)\n",
        "\n",
        "    df_new = generate_df(new_test_dir, 'Testing')\n",
        "\n",
        "    test_data_new = test_gen.flow_from_dataframe(df_new,\n",
        "                                          x_col='Filepath',\n",
        "                                          y_col='Label',\n",
        "                                          target_size=(120,120),\n",
        "                                          color_mode='rgb',\n",
        "                                          batch_size=5,\n",
        "                                          shuffle=False,\n",
        "                                          seed=42)\n",
        "\n",
        "    # predicted y values\n",
        "    y_pred = np.squeeze((model.predict(test_data_new) >= 0.5).astype(int))\n",
        "\n",
        "\n",
        "    y_certain = model.predict(test_data_new).round(6)\n",
        "    y_out = []\n",
        "    for i in y_pred:\n",
        "        if i==0:\n",
        "            y_out.append('Negative (Not Crack)')\n",
        "        else:\n",
        "            y_out.append('Positive(Crack) ')\n",
        "\n",
        "    result = pd.DataFrame(np.c_[y_out, y_certain], columns=['Result', 'Confidance of being Cracked'])\n",
        "\n",
        "    return result"
      ]
    },
    {
      "cell_type": "code",
      "execution_count": null,
      "metadata": {
        "colab": {
          "background_save": true
        },
        "id": "z-umJ1xK2TsL"
      },
      "outputs": [],
      "source": []
    },
    {
      "cell_type": "code",
      "execution_count": null,
      "metadata": {
        "colab": {
          "background_save": true
        },
        "id": "6f82b8cf"
      },
      "outputs": [],
      "source": [
        "#results = test_new_data(r'/content/drive/MyDrive/200_Check')"
      ]
    },
    {
      "cell_type": "code",
      "execution_count": null,
      "metadata": {
        "colab": {
          "background_save": true
        },
        "id": "IvH6piiE2TBT"
      },
      "outputs": [],
      "source": []
    },
    {
      "cell_type": "code",
      "execution_count": null,
      "metadata": {
        "colab": {
          "background_save": true
        },
        "id": "52a71BRUMbKS"
      },
      "outputs": [],
      "source": [
        "import matplotlib.pyplot as plt\n",
        "import random\n",
        "import cv2\n",
        "import numpy as np"
      ]
    },
    {
      "cell_type": "code",
      "execution_count": null,
      "metadata": {
        "colab": {
          "background_save": true
        },
        "id": "M4GHcbZPMXtK"
      },
      "outputs": [],
      "source": [
        "def func(path,model):\n",
        "  y_true=random.choice(os.listdir(path))\n",
        "  folder_path=os.path.join(path,y_true)\n",
        "  file_path=os.path.join(folder_path,random.choice(os.listdir(folder_path)))\n",
        "  img=cv2.imread(file_path)\n",
        "  img=cv2.cvtColor(img,cv2.COLOR_BGR2RGB)\n",
        "  img=cv2.resize(img,(120,120))\n",
        "  img_scalled=img.astype(\"float32\")\n",
        "  img_scalled=img_scalled/255.\n",
        "  img_scalled=np.expand_dims(img_scalled,axis=0)\n",
        "  predicted=model.predict(img_scalled,verbose=0)\n",
        "  print(predicted[0][0])\n",
        "  if predicted[0][0]<0.5:\n",
        "    y_pred=\"negative\"\n",
        "  else:\n",
        "    y_pred=\"positive\"\n",
        "  print(\"actual: \",y_true,\"predicted: \",y_pred)\n",
        "  plt.imshow(img)\n",
        "  plt.axis(\"off\")\n",
        "  plt.show\n",
        "func(\"/content/surface-crack-detection\",model)"
      ]
    },
    {
      "cell_type": "code",
      "execution_count": null,
      "metadata": {
        "colab": {
          "background_save": true
        },
        "id": "e237a52d"
      },
      "outputs": [],
      "source": []
    }
  ],
  "metadata": {
    "accelerator": "GPU",
    "colab": {
      "gpuType": "T4",
      "provenance": []
    },
    "kernelspec": {
      "display_name": "Python 3",
      "name": "python3"
    },
    "language_info": {
      "name": "python"
    }
  },
  "nbformat": 4,
  "nbformat_minor": 0
}